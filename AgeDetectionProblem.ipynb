{
 "cells": [
  {
   "cell_type": "code",
   "execution_count": 20,
   "metadata": {},
   "outputs": [
    {
     "name": "stdout",
     "output_type": "stream",
     "text": [
      "Populating the interactive namespace from numpy and matplotlib\n"
     ]
    },
    {
     "name": "stderr",
     "output_type": "stream",
     "text": [
      "/anaconda3/lib/python3.6/site-packages/IPython/core/magics/pylab.py:160: UserWarning: pylab import has clobbered these variables: ['random']\n",
      "`%matplotlib` prevents importing * from pylab and numpy\n",
      "  \"\\n`%matplotlib` prevents importing * from pylab and numpy\"\n"
     ]
    }
   ],
   "source": [
    "import numpy as np\n",
    "import pandas as pd\n",
    "import scipy \n",
    "import os\n",
    "import random\n",
    "import keras \n",
    "from sklearn.preprocessing import LabelEncoder\n",
    "%pylab inline\n",
    "from keras.models import Sequential\n",
    "from keras.layers import Dense, Flatten, InputLayer\n",
    "from keras.optimizers import SGD\n",
    "from keras.utils import np_utils\n",
    "from keras.layers import Dropout\n",
    "from keras.constraints import maxnorm\n",
    "from keras.layers.convolutional import Conv2D\n",
    "from keras.layers.convolutional import MaxPooling2D\n",
    "\n",
    "from keras.models import model_from_json\n",
    "from keras.models import load_model\n",
    "\n",
    "from sklearn.utils import shuffle\n",
    "from sklearn.model_selection import train_test_split"
   ]
  },
  {
   "cell_type": "code",
   "execution_count": 3,
   "metadata": {},
   "outputs": [],
   "source": [
    "# load csv file \n",
    "data_dir = \"/Users/xiadylan/Downloads\"\n",
    "\n",
    "train = pd.read_csv(os.path.join(data_dir,\"Age_Detection_train\",\"train.csv\"))\n",
    "test = pd.read_csv(os.path.join(data_dir,'Age_Detection_test','test.csv'))"
   ]
  },
  {
   "cell_type": "code",
   "execution_count": 5,
   "metadata": {},
   "outputs": [
    {
     "name": "stdout",
     "output_type": "stream",
     "text": [
      "13479\n",
      "\n",
      "\n",
      "1499.jpg\n",
      "Age:  OLD\n"
     ]
    },
    {
     "name": "stderr",
     "output_type": "stream",
     "text": [
      "/anaconda3/lib/python3.6/site-packages/ipykernel_launcher.py:9: DeprecationWarning: `imread` is deprecated!\n",
      "`imread` is deprecated in SciPy 1.0.0, and will be removed in 1.2.0.\n",
      "Use ``imageio.imread`` instead.\n",
      "  if __name__ == '__main__':\n"
     ]
    },
    {
     "data": {
      "text/plain": [
       "<matplotlib.image.AxesImage at 0x1c26349a90>"
      ]
     },
     "execution_count": 5,
     "metadata": {},
     "output_type": "execute_result"
    },
    {
     "data": {
      "image/png": "[encoded data removed]",
      "text/plain": [
       "<matplotlib.figure.Figure at 0x1c262d1a20>"
      ]
     },
     "metadata": {},
     "output_type": "display_data"
    }
   ],
   "source": [
    "# randomly choose image and print it\n",
    "i = random.choice(train.index)\n",
    "print(i)\n",
    "print(\"\\n\")\n",
    "\n",
    "img_name = train['ID'][i]\n",
    "print(img_name)\n",
    "\n",
    "img = scipy.misc.imread(os.path.join(data_dir,'Age_Detection_train','Train',img_name))\n",
    "print(\"Age: \",train['Class'][i])\n",
    "\n",
    "imshow(img)"
   ]
  },
  {
   "cell_type": "code",
   "execution_count": 7,
   "metadata": {},
   "outputs": [],
   "source": [
    "# how to handle variations in shape\n",
    "# We can do this by simply resizing the image. Let us load all the images and resize them into a single numpy array"
   ]
  },
  {
   "cell_type": "code",
   "execution_count": 7,
   "metadata": {},
   "outputs": [
    {
     "name": "stderr",
     "output_type": "stream",
     "text": [
      "/anaconda3/lib/python3.6/site-packages/ipykernel_launcher.py:5: DeprecationWarning: `imread` is deprecated!\n",
      "`imread` is deprecated in SciPy 1.0.0, and will be removed in 1.2.0.\n",
      "Use ``imageio.imread`` instead.\n",
      "  \"\"\"\n",
      "/anaconda3/lib/python3.6/site-packages/ipykernel_launcher.py:6: DeprecationWarning: `imresize` is deprecated!\n",
      "`imresize` is deprecated in SciPy 1.0.0, and will be removed in 1.2.0.\n",
      "Use ``skimage.transform.resize`` instead.\n",
      "  \n"
     ]
    }
   ],
   "source": [
    "temp = []\n",
    "\n",
    "for img_name in train.ID:\n",
    "    img_path = os.path.join(data_dir,'Age_Detection_train', 'Train', img_name)\n",
    "    img = scipy.misc.imread(img_path)\n",
    "    img = scipy.misc.imresize(img, (32, 32))\n",
    "    img = img.astype('float32') # this will help us in later stage\n",
    "    temp.append(img)\n",
    "\n",
    "train_x = np.stack(temp)"
   ]
  },
  {
   "cell_type": "code",
   "execution_count": 8,
   "metadata": {},
   "outputs": [
    {
     "data": {
      "text/plain": [
       "(19906, 32, 32, 3)"
      ]
     },
     "execution_count": 8,
     "metadata": {},
     "output_type": "execute_result"
    }
   ],
   "source": [
    "train_x.shape"
   ]
  },
  {
   "cell_type": "code",
   "execution_count": 10,
   "metadata": {},
   "outputs": [
    {
     "name": "stderr",
     "output_type": "stream",
     "text": [
      "/anaconda3/lib/python3.6/site-packages/ipykernel_launcher.py:4: DeprecationWarning: `imread` is deprecated!\n",
      "`imread` is deprecated in SciPy 1.0.0, and will be removed in 1.2.0.\n",
      "Use ``imageio.imread`` instead.\n",
      "  after removing the cwd from sys.path.\n",
      "/anaconda3/lib/python3.6/site-packages/ipykernel_launcher.py:5: DeprecationWarning: `imresize` is deprecated!\n",
      "`imresize` is deprecated in SciPy 1.0.0, and will be removed in 1.2.0.\n",
      "Use ``skimage.transform.resize`` instead.\n",
      "  \"\"\"\n"
     ]
    }
   ],
   "source": [
    "temp = []\n",
    "for img_name in test.ID:\n",
    "    img_path = os.path.join(data_dir,'Age_Detection_test','Test',img_name)\n",
    "    img = scipy.misc.imread(img_path)\n",
    "    img = scipy.misc.imresize(img, (32, 32))\n",
    "    temp.append(img.astype('float32'))\n",
    "\n",
    "test_x = np.stack(temp)"
   ]
  },
  {
   "cell_type": "code",
   "execution_count": 11,
   "metadata": {},
   "outputs": [],
   "source": [
    "# we can normalize our images. Normalizing the images will make our train faster.\n",
    "train_x = train_x / 255\n",
    "test_x = test_x / 255"
   ]
  },
  {
   "cell_type": "code",
   "execution_count": 12,
   "metadata": {},
   "outputs": [
    {
     "data": {
      "text/plain": [
       "MIDDLE    0.542751\n",
       "YOUNG     0.336883\n",
       "OLD       0.120366\n",
       "Name: Class, dtype: float64"
      ]
     },
     "execution_count": 12,
     "metadata": {},
     "output_type": "execute_result"
    }
   ],
   "source": [
    "# most of the actors are middle age\n",
    "train['Class'].value_counts(normalize=True)"
   ]
  },
  {
   "cell_type": "code",
   "execution_count": 13,
   "metadata": {},
   "outputs": [],
   "source": [
    "# Before creating something substantial, let us bring our target variable in shape. \n",
    "# We will convert our target into dummy columns so that it will be easier for our model to ingest it.\n",
    "label_encode = LabelEncoder()\n",
    "train_y = label_encode.fit_transform(train['Class'])\n",
    "train_y = keras.utils.np_utils.to_categorical(train_y)"
   ]
  },
  {
   "cell_type": "code",
   "execution_count": 49,
   "metadata": {},
   "outputs": [],
   "source": [
    "input_num_units = (32, 32, 3)\n",
    "hidden_num_units = 50\n",
    "hidden_num_units = 50\n",
    "hidden_num_units = 50\n",
    "hidden_num_units = 50\n",
    "hidden_num_units = 50\n",
    "hidden_num_units = 50\n",
    "hidden_num_units = 50\n",
    "hidden_num_units = 50\n",
    "output_num_units = 3\n",
    "\n",
    "epochs = 10\n",
    "batch_size = 128"
   ]
  },
  {
   "cell_type": "code",
   "execution_count": 50,
   "metadata": {},
   "outputs": [],
   "source": [
    "model = Sequential([\n",
    "  InputLayer(input_shape=input_num_units),\n",
    "  Flatten(),\n",
    "  Dense(units=hidden_num_units, activation='relu'),\n",
    "  Dense(units=hidden_num_units, activation='relu'),\n",
    "  Dense(units=hidden_num_units, activation='relu'),\n",
    "  Dense(units=hidden_num_units, activation='relu'),\n",
    "  Dense(units=hidden_num_units, activation='relu'),\n",
    "  Dense(units=hidden_num_units, activation='relu'),\n",
    "  Dense(units=hidden_num_units, activation='relu'),\n",
    "  Dense(units=hidden_num_units, activation='relu'),\n",
    "  Dense(units=output_num_units, activation='softmax'),\n",
    "])"
   ]
  },
  {
   "cell_type": "code",
   "execution_count": 51,
   "metadata": {},
   "outputs": [
    {
     "name": "stdout",
     "output_type": "stream",
     "text": [
      "_________________________________________________________________\n",
      "Layer (type)                 Output Shape              Param #   \n",
      "=================================================================\n",
      "input_4 (InputLayer)         (None, 32, 32, 3)         0         \n",
      "_________________________________________________________________\n",
      "flatten_7 (Flatten)          (None, 3072)              0         \n",
      "_________________________________________________________________\n",
      "dense_24 (Dense)             (None, 50)                153650    \n",
      "_________________________________________________________________\n",
      "dense_25 (Dense)             (None, 50)                2550      \n",
      "_________________________________________________________________\n",
      "dense_26 (Dense)             (None, 50)                2550      \n",
      "_________________________________________________________________\n",
      "dense_27 (Dense)             (None, 50)                2550      \n",
      "_________________________________________________________________\n",
      "dense_28 (Dense)             (None, 50)                2550      \n",
      "_________________________________________________________________\n",
      "dense_29 (Dense)             (None, 50)                2550      \n",
      "_________________________________________________________________\n",
      "dense_30 (Dense)             (None, 50)                2550      \n",
      "_________________________________________________________________\n",
      "dense_31 (Dense)             (None, 50)                2550      \n",
      "_________________________________________________________________\n",
      "dense_32 (Dense)             (None, 3)                 153       \n",
      "=================================================================\n",
      "Total params: 171,653\n",
      "Trainable params: 171,653\n",
      "Non-trainable params: 0\n",
      "_________________________________________________________________\n"
     ]
    }
   ],
   "source": [
    "model.summary()"
   ]
  },
  {
   "cell_type": "code",
   "execution_count": 52,
   "metadata": {},
   "outputs": [
    {
     "name": "stdout",
     "output_type": "stream",
     "text": [
      "Epoch 1/10\n",
      "19906/19906 [==============================] - 1s - loss: 1.0137 - acc: 0.5282     \n",
      "Epoch 2/10\n",
      "19906/19906 [==============================] - 1s - loss: 0.9514 - acc: 0.5428     \n",
      "Epoch 3/10\n",
      "19906/19906 [==============================] - 1s - loss: 0.9453 - acc: 0.5428     \n",
      "Epoch 4/10\n",
      "19906/19906 [==============================] - 1s - loss: 0.9380 - acc: 0.5428     \n",
      "Epoch 5/10\n",
      "19906/19906 [==============================] - 1s - loss: 0.9221 - acc: 0.5500     \n",
      "Epoch 6/10\n",
      "19906/19906 [==============================] - 1s - loss: 0.8957 - acc: 0.5962     \n",
      "Epoch 7/10\n",
      "19906/19906 [==============================] - 1s - loss: 0.8736 - acc: 0.6100     \n",
      "Epoch 8/10\n",
      "19906/19906 [==============================] - 1s - loss: 0.8603 - acc: 0.6133     \n",
      "Epoch 9/10\n",
      "19906/19906 [==============================] - 1s - loss: 0.8530 - acc: 0.6176     \n",
      "Epoch 10/10\n",
      "19906/19906 [==============================] - 1s - loss: 0.8444 - acc: 0.6217     \n"
     ]
    },
    {
     "data": {
      "text/plain": [
       "<keras.callbacks.History at 0x1c37c29f98>"
      ]
     },
     "execution_count": 52,
     "metadata": {},
     "output_type": "execute_result"
    }
   ],
   "source": [
    "model.compile(optimizer='sgd', loss='categorical_crossentropy', metrics=['accuracy'])\n",
    "model.fit(train_x, train_y, batch_size=batch_size,epochs=epochs,verbose=1)"
   ]
  },
  {
   "cell_type": "code",
   "execution_count": 24,
   "metadata": {},
   "outputs": [],
   "source": [
    "# But we still haven’t validated it. \n",
    "# Validation is necessary if we want to ensure that \n",
    "#our model will perform well on both the data it is training on and on a new testing data"
   ]
  },
  {
   "cell_type": "code",
   "execution_count": 18,
   "metadata": {},
   "outputs": [
    {
     "name": "stdout",
     "output_type": "stream",
     "text": [
      "Train on 15924 samples, validate on 3982 samples\n",
      "Epoch 1/5\n",
      "15924/15924 [==============================] - 5s - loss: 0.8031 - acc: 0.6328 - val_loss: 0.7838 - val_acc: 0.6391\n",
      "Epoch 2/5\n",
      "15924/15924 [==============================] - 5s - loss: 0.7969 - acc: 0.6362 - val_loss: 0.8123 - val_acc: 0.6246\n",
      "Epoch 3/5\n",
      "15924/15924 [==============================] - 4s - loss: 0.7913 - acc: 0.6400 - val_loss: 0.7754 - val_acc: 0.6434\n",
      "Epoch 4/5\n",
      "15924/15924 [==============================] - 4s - loss: 0.7875 - acc: 0.6448 - val_loss: 0.8235 - val_acc: 0.6115\n",
      "Epoch 5/5\n",
      "15924/15924 [==============================] - 4s - loss: 0.7859 - acc: 0.6431 - val_loss: 0.8555 - val_acc: 0.5748\n"
     ]
    },
    {
     "data": {
      "text/plain": [
       "<keras.callbacks.History at 0x1c261d6a20>"
      ]
     },
     "execution_count": 18,
     "metadata": {},
     "output_type": "execute_result"
    }
   ],
   "source": [
    "model.fit(train_x, train_y, batch_size=batch_size,epochs=epochs,verbose=1, validation_split=0.2)"
   ]
  },
  {
   "cell_type": "code",
   "execution_count": 22,
   "metadata": {},
   "outputs": [
    {
     "data": {
      "text/html": [
       "<div>\n",
       "<style scoped>\n",
       "    .dataframe tbody tr th:only-of-type {\n",
       "        vertical-align: middle;\n",
       "    }\n",
       "\n",
       "    .dataframe tbody tr th {\n",
       "        vertical-align: top;\n",
       "    }\n",
       "\n",
       "    .dataframe thead th {\n",
       "        text-align: right;\n",
       "    }\n",
       "</style>\n",
       "<table border=\"1\" class=\"dataframe\">\n",
       "  <thead>\n",
       "    <tr style=\"text-align: right;\">\n",
       "      <th></th>\n",
       "      <th>ID</th>\n",
       "    </tr>\n",
       "  </thead>\n",
       "  <tbody>\n",
       "    <tr>\n",
       "      <th>0</th>\n",
       "      <td>25321.jpg</td>\n",
       "    </tr>\n",
       "    <tr>\n",
       "      <th>1</th>\n",
       "      <td>989.jpg</td>\n",
       "    </tr>\n",
       "    <tr>\n",
       "      <th>2</th>\n",
       "      <td>19277.jpg</td>\n",
       "    </tr>\n",
       "    <tr>\n",
       "      <th>3</th>\n",
       "      <td>13093.jpg</td>\n",
       "    </tr>\n",
       "    <tr>\n",
       "      <th>4</th>\n",
       "      <td>5367.jpg</td>\n",
       "    </tr>\n",
       "  </tbody>\n",
       "</table>\n",
       "</div>"
      ],
      "text/plain": [
       "          ID\n",
       "0  25321.jpg\n",
       "1    989.jpg\n",
       "2  19277.jpg\n",
       "3  13093.jpg\n",
       "4   5367.jpg"
      ]
     },
     "execution_count": 22,
     "metadata": {},
     "output_type": "execute_result"
    }
   ],
   "source": [
    "test = pd.read_csv(os.path.join(data_dir,'Age_Detection_test','test.csv'))\n",
    "test.head()"
   ]
  },
  {
   "cell_type": "code",
   "execution_count": 23,
   "metadata": {},
   "outputs": [
    {
     "name": "stdout",
     "output_type": "stream",
     "text": [
      "6464/6636 [============================>.] - ETA: 0s"
     ]
    },
    {
     "name": "stderr",
     "output_type": "stream",
     "text": [
      "/anaconda3/lib/python3.6/site-packages/sklearn/preprocessing/label.py:151: DeprecationWarning: The truth value of an empty array is ambiguous. Returning False, but in future this will result in an error. Use `array.size > 0` to check that an array is not empty.\n",
      "  if diff:\n"
     ]
    }
   ],
   "source": [
    "pred = model.predict_classes(test_x)\n",
    "pred = label_encode.inverse_transform(pred)\n",
    "\n",
    "\n",
    "test['Class'] = pred"
   ]
  },
  {
   "cell_type": "code",
   "execution_count": 24,
   "metadata": {},
   "outputs": [
    {
     "data": {
      "text/html": [
       "<div>\n",
       "<style scoped>\n",
       "    .dataframe tbody tr th:only-of-type {\n",
       "        vertical-align: middle;\n",
       "    }\n",
       "\n",
       "    .dataframe tbody tr th {\n",
       "        vertical-align: top;\n",
       "    }\n",
       "\n",
       "    .dataframe thead th {\n",
       "        text-align: right;\n",
       "    }\n",
       "</style>\n",
       "<table border=\"1\" class=\"dataframe\">\n",
       "  <thead>\n",
       "    <tr style=\"text-align: right;\">\n",
       "      <th></th>\n",
       "      <th>ID</th>\n",
       "      <th>Class</th>\n",
       "    </tr>\n",
       "  </thead>\n",
       "  <tbody>\n",
       "    <tr>\n",
       "      <th>0</th>\n",
       "      <td>377.jpg</td>\n",
       "      <td>MIDDLE</td>\n",
       "    </tr>\n",
       "    <tr>\n",
       "      <th>1</th>\n",
       "      <td>17814.jpg</td>\n",
       "      <td>YOUNG</td>\n",
       "    </tr>\n",
       "    <tr>\n",
       "      <th>2</th>\n",
       "      <td>21283.jpg</td>\n",
       "      <td>MIDDLE</td>\n",
       "    </tr>\n",
       "    <tr>\n",
       "      <th>3</th>\n",
       "      <td>16496.jpg</td>\n",
       "      <td>YOUNG</td>\n",
       "    </tr>\n",
       "    <tr>\n",
       "      <th>4</th>\n",
       "      <td>4487.jpg</td>\n",
       "      <td>MIDDLE</td>\n",
       "    </tr>\n",
       "  </tbody>\n",
       "</table>\n",
       "</div>"
      ],
      "text/plain": [
       "          ID   Class\n",
       "0    377.jpg  MIDDLE\n",
       "1  17814.jpg   YOUNG\n",
       "2  21283.jpg  MIDDLE\n",
       "3  16496.jpg   YOUNG\n",
       "4   4487.jpg  MIDDLE"
      ]
     },
     "execution_count": 24,
     "metadata": {},
     "output_type": "execute_result"
    }
   ],
   "source": [
    "train.head()"
   ]
  },
  {
   "cell_type": "code",
   "execution_count": 55,
   "metadata": {},
   "outputs": [
    {
     "name": "stderr",
     "output_type": "stream",
     "text": [
      "/anaconda3/lib/python3.6/site-packages/ipykernel_launcher.py:5: DeprecationWarning: `imread` is deprecated!\n",
      "`imread` is deprecated in SciPy 1.0.0, and will be removed in 1.2.0.\n",
      "Use ``imageio.imread`` instead.\n",
      "  \"\"\"\n",
      "/anaconda3/lib/python3.6/site-packages/ipykernel_launcher.py:6: DeprecationWarning: `imresize` is deprecated!\n",
      "`imresize` is deprecated in SciPy 1.0.0, and will be removed in 1.2.0.\n",
      "Use ``skimage.transform.resize`` instead.\n",
      "  \n"
     ]
    },
    {
     "name": "stdout",
     "output_type": "stream",
     "text": [
      "19904/19906 [============================>.] - ETA: 0s Original:  MIDDLE Predicted:  MIDDLE\n"
     ]
    },
    {
     "name": "stderr",
     "output_type": "stream",
     "text": [
      "/anaconda3/lib/python3.6/site-packages/sklearn/preprocessing/label.py:151: DeprecationWarning: The truth value of an empty array is ambiguous. Returning False, but in future this will result in an error. Use `array.size > 0` to check that an array is not empty.\n",
      "  if diff:\n"
     ]
    },
    {
     "data": {
      "image/png": "[encoded data removed]",
      "text/plain": [
       "<matplotlib.figure.Figure at 0x1c38b8a160>"
      ]
     },
     "metadata": {},
     "output_type": "display_data"
    }
   ],
   "source": [
    "i = random.choice(train.index)\n",
    "img_name = train['ID'][i]\n",
    "\n",
    "\n",
    "img = scipy.misc.imread(os.path.join(data_dir,'Age_Detection_train', 'Train', img_name)).astype('float32')\n",
    "imshow(scipy.misc.imresize(img,(128,128)))\n",
    "pred = model.predict_classes(train_x)\n",
    "print(' Original: ',train['Class'][i],'Predicted: ',label_encode.inverse_transform(pred[i]))"
   ]
  },
  {
   "cell_type": "code",
   "execution_count": 57,
   "metadata": {
    "scrolled": true
   },
   "outputs": [
    {
     "name": "stdout",
     "output_type": "stream",
     "text": [
      "_________________________________________________________________\n",
      "Layer (type)                 Output Shape              Param #   \n",
      "=================================================================\n",
      "conv2d_11 (Conv2D)           (None, 32, 32, 32)        896       \n",
      "_________________________________________________________________\n",
      "dropout_11 (Dropout)         (None, 32, 32, 32)        0         \n",
      "_________________________________________________________________\n",
      "conv2d_12 (Conv2D)           (None, 32, 32, 32)        9248      \n",
      "_________________________________________________________________\n",
      "dropout_12 (Dropout)         (None, 32, 32, 32)        0         \n",
      "_________________________________________________________________\n",
      "conv2d_13 (Conv2D)           (None, 32, 32, 32)        9248      \n",
      "_________________________________________________________________\n",
      "dropout_13 (Dropout)         (None, 32, 32, 32)        0         \n",
      "_________________________________________________________________\n",
      "conv2d_14 (Conv2D)           (None, 32, 32, 32)        9248      \n",
      "_________________________________________________________________\n",
      "max_pooling2d_5 (MaxPooling2 (None, 16, 16, 32)        0         \n",
      "_________________________________________________________________\n",
      "flatten_9 (Flatten)          (None, 8192)              0         \n",
      "_________________________________________________________________\n",
      "dense_35 (Dense)             (None, 512)               4194816   \n",
      "_________________________________________________________________\n",
      "dropout_14 (Dropout)         (None, 512)               0         \n",
      "_________________________________________________________________\n",
      "dense_36 (Dense)             (None, 3)                 1539      \n",
      "=================================================================\n",
      "Total params: 4,224,995\n",
      "Trainable params: 4,224,995\n",
      "Non-trainable params: 0\n",
      "_________________________________________________________________\n",
      "None\n",
      "Train on 15924 samples, validate on 3982 samples\n",
      "Epoch 1/25\n",
      "15924/15924 [==============================] - 228s - loss: 0.9185 - acc: 0.5683 - val_loss: 0.8582 - val_acc: 0.6321\n",
      "Epoch 2/25\n",
      "15924/15924 [==============================] - 213s - loss: 0.8461 - acc: 0.6140 - val_loss: 0.8330 - val_acc: 0.6404\n",
      "Epoch 3/25\n",
      "15924/15924 [==============================] - 219s - loss: 0.7964 - acc: 0.6440 - val_loss: 0.8110 - val_acc: 0.6396\n",
      "Epoch 4/25\n",
      "15924/15924 [==============================] - 213s - loss: 0.7585 - acc: 0.6614 - val_loss: 0.7295 - val_acc: 0.6878\n",
      "Epoch 5/25\n",
      "15924/15924 [==============================] - 201s - loss: 0.7431 - acc: 0.6702 - val_loss: 0.7716 - val_acc: 0.6567\n",
      "Epoch 6/25\n",
      "15924/15924 [==============================] - 178s - loss: 0.7180 - acc: 0.6853 - val_loss: 0.7307 - val_acc: 0.6801\n",
      "Epoch 7/25\n",
      "15924/15924 [==============================] - 173s - loss: 0.6937 - acc: 0.6999 - val_loss: 0.7011 - val_acc: 0.6946\n",
      "Epoch 8/25\n",
      "15924/15924 [==============================] - 174s - loss: 0.6747 - acc: 0.7094 - val_loss: 0.6674 - val_acc: 0.7079\n",
      "Epoch 9/25\n",
      "15924/15924 [==============================] - 174s - loss: 0.6493 - acc: 0.7167 - val_loss: 0.6767 - val_acc: 0.7145\n",
      "Epoch 10/25\n",
      "15924/15924 [==============================] - 194s - loss: 0.6322 - acc: 0.7280 - val_loss: 0.6907 - val_acc: 0.6946\n",
      "Epoch 11/25\n",
      "15924/15924 [==============================] - 175s - loss: 0.6083 - acc: 0.7426 - val_loss: 0.6504 - val_acc: 0.7233\n",
      "Epoch 12/25\n",
      "15924/15924 [==============================] - 174s - loss: 0.5834 - acc: 0.7501 - val_loss: 0.6222 - val_acc: 0.7368\n",
      "Epoch 13/25\n",
      "15924/15924 [==============================] - 173s - loss: 0.5599 - acc: 0.7655 - val_loss: 0.6134 - val_acc: 0.7471\n",
      "Epoch 14/25\n",
      "15924/15924 [==============================] - 196s - loss: 0.5307 - acc: 0.7768 - val_loss: 0.6200 - val_acc: 0.7464\n",
      "Epoch 15/25\n",
      "15924/15924 [==============================] - 198s - loss: 0.5139 - acc: 0.7837 - val_loss: 0.6074 - val_acc: 0.7592\n",
      "Epoch 16/25\n",
      "15924/15924 [==============================] - 184s - loss: 0.4830 - acc: 0.7984 - val_loss: 0.6078 - val_acc: 0.7549\n",
      "Epoch 17/25\n",
      "15924/15924 [==============================] - 199s - loss: 0.4485 - acc: 0.8133 - val_loss: 0.6211 - val_acc: 0.7486\n",
      "Epoch 18/25\n",
      "15924/15924 [==============================] - 182s - loss: 0.4320 - acc: 0.8239 - val_loss: 0.6178 - val_acc: 0.7549\n",
      "Epoch 19/25\n",
      "15924/15924 [==============================] - 209s - loss: 0.4033 - acc: 0.8374 - val_loss: 0.6086 - val_acc: 0.7604\n",
      "Epoch 20/25\n",
      "15924/15924 [==============================] - 188s - loss: 0.3773 - acc: 0.8485 - val_loss: 0.6348 - val_acc: 0.7554\n",
      "Epoch 21/25\n",
      "15924/15924 [==============================] - 190s - loss: 0.3497 - acc: 0.8573 - val_loss: 0.6435 - val_acc: 0.7682\n",
      "Epoch 22/25\n",
      "15924/15924 [==============================] - 175s - loss: 0.3373 - acc: 0.8617 - val_loss: 0.6212 - val_acc: 0.7670\n",
      "Epoch 23/25\n",
      "15924/15924 [==============================] - 185s - loss: 0.3045 - acc: 0.8806 - val_loss: 0.6503 - val_acc: 0.7687\n",
      "Epoch 24/25\n",
      "15924/15924 [==============================] - 192s - loss: 0.2861 - acc: 0.8887 - val_loss: 0.6609 - val_acc: 0.7627\n",
      "Epoch 25/25\n",
      "15924/15924 [==============================] - 192s - loss: 0.2700 - acc: 0.8955 - val_loss: 0.6487 - val_acc: 0.7707\n"
     ]
    },
    {
     "data": {
      "text/plain": [
       "<keras.callbacks.History at 0x1c389d3b00>"
      ]
     },
     "execution_count": 57,
     "metadata": {},
     "output_type": "execute_result"
    }
   ],
   "source": [
    "label_encode = LabelEncoder()\n",
    "train_y = label_encode.fit_transform(train['Class'])\n",
    "train_y = keras.utils.np_utils.to_categorical(train_y)\n",
    "\n",
    "model = Sequential()\n",
    "model = Sequential()\n",
    "model.add(Conv2D(32, (3, 3), input_shape=input_num_units, padding='same', activation='relu', kernel_constraint=maxnorm(3)))\n",
    "model.add(Dropout(0.2))\n",
    "model.add(Conv2D(32, (3, 3), activation='relu', padding='same', kernel_constraint=maxnorm(3)))\n",
    "model.add(Dropout(0.2))\n",
    "model.add(Conv2D(32, (3, 3), activation='relu', padding='same', kernel_constraint=maxnorm(3)))\n",
    "model.add(Dropout(0.2))\n",
    "model.add(Conv2D(32, (3, 3), activation='relu', padding='same', kernel_constraint=maxnorm(3)))\n",
    "model.add(MaxPooling2D(pool_size=(2, 2)))\n",
    "model.add(Flatten())\n",
    "model.add(Dense(512, activation='relu', kernel_constraint=maxnorm(3)))\n",
    "model.add(Dropout(0.5))\n",
    "model.add(Dense(3, activation='softmax'))\n",
    "epochs = 25\n",
    "lrate = 0.01\n",
    "decay = lrate/epochs\n",
    "sgd = SGD(lr=lrate, momentum=0.9, decay=decay, nesterov=False)\n",
    "model.compile(loss='categorical_crossentropy', optimizer=sgd, metrics=['accuracy'])\n",
    "print(model.summary())\n",
    "model.fit(train_x, train_y, validation_split=0.2, epochs=epochs, batch_size=64)\n"
   ]
  },
  {
   "cell_type": "code",
   "execution_count": 40,
   "metadata": {},
   "outputs": [],
   "source": [
    "model_json = model.to_json()\n",
    "with open(\"model.json\", \"w\") as json_file:\n",
    "    json_file.write(model_json)"
   ]
  },
  {
   "cell_type": "code",
   "execution_count": 41,
   "metadata": {},
   "outputs": [
    {
     "name": "stdout",
     "output_type": "stream",
     "text": [
      "Saved model to disk\n"
     ]
    }
   ],
   "source": [
    "model.save_weights(\"model.h5\")\n",
    "print(\"Saved model to disk\")"
   ]
  },
  {
   "cell_type": "code",
   "execution_count": null,
   "metadata": {},
   "outputs": [],
   "source": []
  }
 ],
 "metadata": {
  "kernelspec": {
   "display_name": "Python 3",
   "language": "python",
   "name": "python3"
  },
  "language_info": {
   "codemirror_mode": {
    "name": "ipython",
    "version": 3
   },
   "file_extension": ".py",
   "mimetype": "text/x-python",
   "name": "python",
   "nbconvert_exporter": "python",
   "pygments_lexer": "ipython3",
   "version": "3.6.3"
  }
 },
 "nbformat": 4,
 "nbformat_minor": 2
}
